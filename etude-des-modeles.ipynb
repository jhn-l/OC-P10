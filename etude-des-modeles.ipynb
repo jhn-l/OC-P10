{
 "cells": [
  {
   "cell_type": "markdown",
   "metadata": {},
   "source": [
    "# Élaboration d’un modèle Content-Based Filtering"
   ]
  },
  {
   "cell_type": "code",
   "execution_count": 1,
   "metadata": {},
   "outputs": [],
   "source": [
    "import pandas as pd\n",
    "import numpy as np\n",
    "from sklearn.metrics.pairwise import cosine_similarity\n",
    "from sklearn.decomposition import PCA\n",
    "import random"
   ]
  },
  {
   "cell_type": "code",
   "execution_count": 3,
   "metadata": {},
   "outputs": [],
   "source": [
    "# Chargement des embeddings des articles\n",
    "ROOT_PATH =\"/code/dataset/\"\n",
    "articles_embeddings = pd.read_csv(ROOT_PATH + \"clicks_sample.csv\")  # Utilisation du dataset correct\n",
    "user_interactions = pd.read_csv(ROOT_PATH + \"clicks_sample.csv\")  # Même dataset pour interactions utilisateur\n"
   ]
  },
  {
   "cell_type": "code",
   "execution_count": 4,
   "metadata": {},
   "outputs": [],
   "source": [
    "# Fonction pour choisir un article comme base de recommandation\n",
    "def get_reference_article(user_id, strategy=\"last_clicked\"):\n",
    "    user_clicks = user_interactions[user_interactions['user_id'] == user_id]\n",
    "    if user_clicks.empty:\n",
    "        return None\n",
    "    \n",
    "    if strategy == \"last_clicked\":\n",
    "        return user_clicks.sort_values(by='timestamp', ascending=False).iloc[0]['article_id']\n",
    "    elif strategy == \"random\":\n",
    "        return random.choice(user_clicks['article_id'].values)\n",
    "    elif strategy == \"mean_embedding\":\n",
    "        clicked_articles = user_clicks['article_id'].values\n",
    "        embeddings = articles_embeddings.set_index(\"article_id\").loc[clicked_articles].values\n",
    "        return np.mean(embeddings, axis=0)  # Moyenne des embeddings\n",
    "    else:\n",
    "        raise ValueError(\"Stratégie inconnue\")"
   ]
  },
  {
   "cell_type": "code",
   "execution_count": 5,
   "metadata": {},
   "outputs": [],
   "source": [
    "# Fonction de recommandation basée sur la similarité cosinus\n",
    "def recommend_articles(user_id, strategy=\"last_clicked\", top_n=5, use_pca=False, n_components=50):\n",
    "    reference_article = get_reference_article(user_id, strategy)\n",
    "    \n",
    "    if reference_article is None:\n",
    "        return []\n",
    "    \n",
    "    if strategy == \"mean_embedding\":\n",
    "        ref_embedding = reference_article\n",
    "    else:\n",
    "        ref_embedding = articles_embeddings.set_index(\"article_id\").loc[reference_article].values.reshape(1, -1)\n",
    "    \n",
    "    embeddings = articles_embeddings.drop(columns=[\"article_id\"]).values\n",
    "    article_ids = articles_embeddings[\"article_id\"].values\n",
    "    \n",
    "    if use_pca:\n",
    "        pca = PCA(n_components=n_components)\n",
    "        embeddings = pca.fit_transform(embeddings)\n",
    "        ref_embedding = pca.transform(ref_embedding)\n",
    "    \n",
    "    # Calcul de similarité cosinus\n",
    "    similarities = cosine_similarity(ref_embedding, embeddings)[0]\n",
    "    similar_indices = np.argsort(similarities)[::-1][1:top_n+1]\n",
    "    \n",
    "    recommended_articles = [article_ids[i] for i in similar_indices]\n",
    "    \n",
    "    return recommended_articles"
   ]
  },
  {
   "cell_type": "code",
   "execution_count": 7,
   "metadata": {},
   "outputs": [
    {
     "name": "stdout",
     "output_type": "stream",
     "text": [
      "Articles recommandés : []\n"
     ]
    }
   ],
   "source": [
    "# Test avec un utilisateur\n",
    "test_user_id = 5283  # Remplacez par un user_id réel\n",
    "print(\"Articles recommandés :\", recommend_articles(test_user_id, strategy=\"last_clicked\"))\n"
   ]
  }
 ],
 "metadata": {
  "kernelspec": {
   "display_name": "Python 3 (ipykernel)",
   "language": "python",
   "name": "python3"
  },
  "language_info": {
   "codemirror_mode": {
    "name": "ipython",
    "version": 3
   },
   "file_extension": ".py",
   "mimetype": "text/x-python",
   "name": "python",
   "nbconvert_exporter": "python",
   "pygments_lexer": "ipython3",
   "version": "3.12.8"
  }
 },
 "nbformat": 4,
 "nbformat_minor": 2
}
